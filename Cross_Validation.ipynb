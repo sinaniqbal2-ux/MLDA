{
  "nbformat": 4,
  "nbformat_minor": 0,
  "metadata": {
    "colab": {
      "provenance": [],
      "authorship_tag": "ABX9TyOTZHx3lxqFdg8RRnqKjRcN",
      "include_colab_link": true
    },
    "kernelspec": {
      "name": "python3",
      "display_name": "Python 3"
    },
    "language_info": {
      "name": "python"
    }
  },
  "cells": [
    {
      "cell_type": "markdown",
      "metadata": {
        "id": "view-in-github",
        "colab_type": "text"
      },
      "source": [
        "<a href=\"https://colab.research.google.com/github/sinaniqbal2-ux/MLDA/blob/main/Cross_Validation.ipynb\" target=\"_parent\"><img src=\"https://colab.research.google.com/assets/colab-badge.svg\" alt=\"Open In Colab\"/></a>"
      ]
    },
    {
      "cell_type": "code",
      "execution_count": 3,
      "metadata": {
        "id": "yD0Cas3ahr_q",
        "colab": {
          "base_uri": "https://localhost:8080/"
        },
        "outputId": "655cde96-db60-4a03-bd43-df58477a70d0"
      },
      "outputs": [
        {
          "output_type": "stream",
          "name": "stdout",
          "text": [
            "Cross Validation Scores:  [1.         1.         1.         0.93333333 0.93333333 0.86666667\n",
            " 1.         0.86666667 0.93333333 1.        ]\n",
            "Cross Validation Scores:  [1.         1.         1.         1.         0.93333333 0.86666667\n",
            " 1.         0.86666667 0.86666667 0.93333333]\n",
            "Average CV Score:  0.9533333333333334\n",
            "Average CV Score:  0.9466666666666667\n",
            "Number of CV Scores used in Average:  10\n",
            "Number of CV Scores used in Average:  10\n"
          ]
        }
      ],
      "source": [
        "from sklearn import datasets\n",
        "from sklearn.tree import DecisionTreeClassifier\n",
        "from sklearn.linear_model import LogisticRegression\n",
        "from sklearn.model_selection import KFold, cross_val_score\n",
        "\n",
        "X, y = datasets.load_iris(return_X_y=True)\n",
        "\n",
        "clf1 = DecisionTreeClassifier(random_state=42)\n",
        "clf2 = LogisticRegression(max_iter=1000)\n",
        "\n",
        "k_folds = KFold(n_splits = 10)\n",
        "\n",
        "scores1 = cross_val_score(clf1, X, y, cv = k_folds)\n",
        "scores2 = cross_val_score(clf2, X, y, cv = k_folds)\n",
        "\n",
        "print(\"Cross Validation Scores: \", scores1)\n",
        "print(\"Cross Validation Scores: \", scores2)\n",
        "print(\"Average CV Score: \", scores1.mean())\n",
        "print(\"Average CV Score: \", scores2.mean())\n",
        "print(\"Number of CV Scores used in Average: \", len(scores1))\n",
        "print(\"Number of CV Scores used in Average: \", len(scores2))"
      ]
    }
  ]
}