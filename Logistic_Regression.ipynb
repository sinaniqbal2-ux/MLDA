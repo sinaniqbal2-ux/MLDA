{
  "nbformat": 4,
  "nbformat_minor": 0,
  "metadata": {
    "colab": {
      "provenance": [],
      "authorship_tag": "ABX9TyOHrlCXckySVa62pjfKL3BQ",
      "include_colab_link": true
    },
    "kernelspec": {
      "name": "python3",
      "display_name": "Python 3"
    },
    "language_info": {
      "name": "python"
    }
  },
  "cells": [
    {
      "cell_type": "markdown",
      "metadata": {
        "id": "view-in-github",
        "colab_type": "text"
      },
      "source": [
        "<a href=\"https://colab.research.google.com/github/sinaniqbal2-ux/MLDA/blob/main/Logistic_Regression.ipynb\" target=\"_parent\"><img src=\"https://colab.research.google.com/assets/colab-badge.svg\" alt=\"Open In Colab\"/></a>"
      ]
    },
    {
      "cell_type": "code",
      "source": [
        "import pandas as pd\n",
        "from sklearn.preprocessing import LabelEncoder\n",
        "from sklearn.model_selection import train_test_split\n",
        "from sklearn.linear_model import LogisticRegression\n",
        "from sklearn.metrics import accuracy_score\n",
        "\n",
        "data=pd.read_csv(\"Online_Sales.csv\")\n",
        "print(data.head())\n",
        "# le=LabelEncoder()\n",
        "# data[\"salary\"]=le.fit_transform(data[\"salary\"])\n",
        "print(data.head())\n",
        "# x=data[[\"satisfaction_level\",\"last_evaluation\",\"number_project\",\n",
        "# \"average_montly_hours\",\"time_spend_company\",\n",
        "# \"Work_accident\",\"promotion_last_5years\"]]\n",
        "# x.head()\n",
        "# y=data[\"left\"]\n",
        "# x.head()\n",
        "# x_train,x_test,y_train,y_test=train_test_split(x,y,test_size=0.2,random_state=2)\n",
        "# lr = LogisticRegression(max_iter=1000)\n",
        "# lr.fit(x_train,y_train)\n",
        "# y_lr_pred=lr.predict(x_test)\n",
        "# print(\"y_test shape:\", y_test.shape)\n",
        "# print(\"y_lr_pred shape:\", y_lr_pred.shape)\n",
        "# accuracy_lr=accuracy_score(y_test,y_lr_pred)\n",
        "# print(accuracy_lr)"
      ],
      "metadata": {
        "id": "ZJNgZsTd0nqT",
        "colab": {
          "base_uri": "https://localhost:8080/"
        },
        "outputId": "8abe0efb-c594-425b-97c6-3a6ea085884a"
      },
      "execution_count": 66,
      "outputs": [
        {
          "output_type": "stream",
          "name": "stdout",
          "text": [
            "   CustomerID  Transaction_ID Transaction_Date     Product_SKU  \\\n",
            "0       17850           16679       01-01-2019  GGOENEBJ079499   \n",
            "1       17850           16680       01-01-2019  GGOENEBJ079499   \n",
            "2       17850           16681       01-01-2019  GGOEGFKQ020399   \n",
            "3       17850           16682       01-01-2019  GGOEGAAB010516   \n",
            "4       17850           16682       01-01-2019  GGOEGBJL013999   \n",
            "\n",
            "                                 Product_Description Product_Category  \\\n",
            "0  Nest Learning Thermostat 3rd Gen-USA - Stainle...         Nest-USA   \n",
            "1  Nest Learning Thermostat 3rd Gen-USA - Stainle...         Nest-USA   \n",
            "2              Google Laptop and Cell Phone Stickers           Office   \n",
            "3  Google Men's 100% Cotton Short Sleeve Hero Tee...          Apparel   \n",
            "4                    Google Canvas Tote Natural/Navy             Bags   \n",
            "\n",
            "   Quantity  Avg_Price  Delivery_Charges Coupon_Status  \n",
            "0         1     153.71               6.5          Used  \n",
            "1         1     153.71               6.5          Used  \n",
            "2         1       2.05               6.5          Used  \n",
            "3         5      17.53               6.5      Not Used  \n",
            "4         1      16.50               6.5          Used  \n",
            "   CustomerID  Transaction_ID Transaction_Date     Product_SKU  \\\n",
            "0       17850           16679       01-01-2019  GGOENEBJ079499   \n",
            "1       17850           16680       01-01-2019  GGOENEBJ079499   \n",
            "2       17850           16681       01-01-2019  GGOEGFKQ020399   \n",
            "3       17850           16682       01-01-2019  GGOEGAAB010516   \n",
            "4       17850           16682       01-01-2019  GGOEGBJL013999   \n",
            "\n",
            "                                 Product_Description Product_Category  \\\n",
            "0  Nest Learning Thermostat 3rd Gen-USA - Stainle...         Nest-USA   \n",
            "1  Nest Learning Thermostat 3rd Gen-USA - Stainle...         Nest-USA   \n",
            "2              Google Laptop and Cell Phone Stickers           Office   \n",
            "3  Google Men's 100% Cotton Short Sleeve Hero Tee...          Apparel   \n",
            "4                    Google Canvas Tote Natural/Navy             Bags   \n",
            "\n",
            "   Quantity  Avg_Price  Delivery_Charges Coupon_Status  \n",
            "0         1     153.71               6.5          Used  \n",
            "1         1     153.71               6.5          Used  \n",
            "2         1       2.05               6.5          Used  \n",
            "3         5      17.53               6.5      Not Used  \n",
            "4         1      16.50               6.5          Used  \n"
          ]
        }
      ]
    }
  ]
}