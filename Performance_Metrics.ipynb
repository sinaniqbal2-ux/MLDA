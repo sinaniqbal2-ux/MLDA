{
  "nbformat": 4,
  "nbformat_minor": 0,
  "metadata": {
    "colab": {
      "provenance": [],
      "authorship_tag": "ABX9TyP+gL9U1rJCEpSdfT4rwQP1",
      "include_colab_link": true
    },
    "kernelspec": {
      "name": "python3",
      "display_name": "Python 3"
    },
    "language_info": {
      "name": "python"
    }
  },
  "cells": [
    {
      "cell_type": "markdown",
      "metadata": {
        "id": "view-in-github",
        "colab_type": "text"
      },
      "source": [
        "<a href=\"https://colab.research.google.com/github/sinaniqbal2-ux/MLDA/blob/main/Performance_Metrics.ipynb\" target=\"_parent\"><img src=\"https://colab.research.google.com/assets/colab-badge.svg\" alt=\"Open In Colab\"/></a>"
      ]
    },
    {
      "cell_type": "code",
      "execution_count": 6,
      "metadata": {
        "colab": {
          "base_uri": "https://localhost:8080/"
        },
        "id": "Z1fMZOx0m6I3",
        "outputId": "95d45312-c860-42dd-93b5-a80a13b6ead1"
      },
      "outputs": [
        {
          "output_type": "stream",
          "name": "stdout",
          "text": [
            "      TV  Radio  Newspaper  Sales\n",
            "0  230.1   37.8       69.2   22.1\n",
            "1   44.5   39.3       45.1   10.4\n",
            "2   17.2   45.9       69.3   12.0\n",
            "3  151.5   41.3       58.5   16.5\n",
            "4  180.8   10.8       58.4   17.9\n",
            "Linear Regression MSE: 3.091721330322738\n",
            "Linear Regression R2: 0.8407131803267819\n"
          ]
        }
      ],
      "source": [
        "import pandas as pd\n",
        "from sklearn.model_selection import train_test_split\n",
        "from sklearn.linear_model import LinearRegression\n",
        "from sklearn.metrics import mean_squared_error, r2_score\n",
        "\n",
        "data=pd.read_csv(\"company.csv\")\n",
        "print(data.head())\n",
        "\n",
        "# Define features (x) and target variable (y) based on the loaded data\n",
        "x = data[[\"TV\", \"Radio\", \"Newspaper\"]]\n",
        "y = data[\"Sales\"]\n",
        "\n",
        "x_train,x_test,y_train,y_test=train_test_split(x,y,test_size=0.2,random_state=2)\n",
        "\n",
        "# Use Linear Regression for predicting a continuous variable (Sales)\n",
        "lrr = LinearRegression()\n",
        "lrr.fit(x_train, y_train)\n",
        "y_lrr_pred = lrr.predict(x_test)\n",
        "\n",
        "mse = mean_squared_error(y_test, y_lrr_pred)\n",
        "r2 = r2_score(y_test, y_lrr_pred)\n",
        "\n",
        "print(\"Linear Regression MSE:\", mse)\n",
        "print(\"Linear Regression R2:\", r2)"
      ]
    }
  ]
}