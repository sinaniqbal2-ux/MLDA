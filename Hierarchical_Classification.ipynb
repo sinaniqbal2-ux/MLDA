{
  "nbformat": 4,
  "nbformat_minor": 0,
  "metadata": {
    "colab": {
      "provenance": [],
      "authorship_tag": "ABX9TyPbjggKkw39fX/HCD1S8y4z",
      "include_colab_link": true
    },
    "kernelspec": {
      "name": "python3",
      "display_name": "Python 3"
    },
    "language_info": {
      "name": "python"
    }
  },
  "cells": [
    {
      "cell_type": "markdown",
      "metadata": {
        "id": "view-in-github",
        "colab_type": "text"
      },
      "source": [
        "<a href=\"https://colab.research.google.com/github/sinaniqbal2-ux/MLDA/blob/main/Hierarchical_Classification.ipynb\" target=\"_parent\"><img src=\"https://colab.research.google.com/assets/colab-badge.svg\" alt=\"Open In Colab\"/></a>"
      ]
    },
    {
      "cell_type": "code",
      "execution_count": 3,
      "metadata": {
        "id": "DYPyXtKp843p",
        "colab": {
          "base_uri": "https://localhost:8080/"
        },
        "outputId": "a4595746-01d0-4e5d-b89f-050aea0054d1"
      },
      "outputs": [
        {
          "output_type": "stream",
          "name": "stdout",
          "text": [
            "Classification Report:\n",
            "               precision    recall  f1-score   support\n",
            "\n",
            "           0       0.00      0.00      0.00        10\n",
            "           1       0.00      0.00      0.00         9\n",
            "           2       0.12      0.09      0.11        11\n",
            "\n",
            "    accuracy                           0.03        30\n",
            "   macro avg       0.04      0.03      0.04        30\n",
            "weighted avg       0.05      0.03      0.04        30\n",
            "\n",
            "Confusion Matrix:\n",
            " [[ 0 10  0]\n",
            " [ 2  0  7]\n",
            " [10  0  1]]\n"
          ]
        }
      ],
      "source": [
        "import numpy as np\n",
        "import matplotlib.pyplot as plt\n",
        "from sklearn.datasets import load_iris\n",
        "from sklearn.cluster import AgglomerativeClustering\n",
        "from sklearn.model_selection import train_test_split\n",
        "from sklearn.metrics import confusion_matrix, classification_report\n",
        "\n",
        "iris = load_iris()\n",
        "x = iris.data[:, :2]\n",
        "y = iris.target\n",
        "\n",
        "x_train, x_test, y_train, y_test = train_test_split(x, y, test_size=0.2, random_state=42)\n",
        "hc_model = AgglomerativeClustering(n_clusters=3, linkage='ward')\n",
        "y_hc = hc_model.fit_predict(x_test)\n",
        "\n",
        "print(\"Classification Report:\\n\", classification_report(y_test, y_hc))\n",
        "\n",
        "cm = confusion_matrix(y_test, y_hc)\n",
        "print(\"Confusion Matrix:\\n\", cm)\n"
      ]
    }
  ]
}