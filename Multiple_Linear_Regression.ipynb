{
  "nbformat": 4,
  "nbformat_minor": 0,
  "metadata": {
    "colab": {
      "provenance": [],
      "authorship_tag": "ABX9TyO1VZpvsO/npV2DZThR74ft",
      "include_colab_link": true
    },
    "kernelspec": {
      "name": "python3",
      "display_name": "Python 3"
    },
    "language_info": {
      "name": "python"
    }
  },
  "cells": [
    {
      "cell_type": "markdown",
      "metadata": {
        "id": "view-in-github",
        "colab_type": "text"
      },
      "source": [
        "<a href=\"https://colab.research.google.com/github/sinaniqbal2-ux/MLDA/blob/main/Multiple_Linear_Regression.ipynb\" target=\"_parent\"><img src=\"https://colab.research.google.com/assets/colab-badge.svg\" alt=\"Open In Colab\"/></a>"
      ]
    },
    {
      "cell_type": "code",
      "source": [
        "import pandas as pd\n",
        "from sklearn.preprocessing import LabelEncoder\n",
        "from sklearn.model_selection import train_test_split\n",
        "from sklearn.linear_model import LinearRegression\n",
        "from sklearn.metrics import mean_squared_error, r2_score\n",
        "\n",
        "data = pd.read_csv(\"company_employee_details.csv\")\n",
        "print(data.head())\n",
        "\n",
        "\n",
        "le = LabelEncoder()\n",
        "data[\"salary\"] = le.fit_transform(data[\"salary\"])\n",
        "print(data.head())\n",
        "\n",
        "x = data[[\"age\"]]\n",
        "y = data[\"annual_bonus\"]\n",
        "\n",
        "\n",
        "x_train, x_test, y_train, y_test = train_test_split(x, y, test_size=0.2, random_state=2)\n",
        "\n",
        "lrr = LinearRegression()\n",
        "lrr.fit(x_train, y_train)\n",
        "y_lrr_pred = lrr.predict(x_test)\n",
        "\n",
        "mse = mean_squared_error(y_test, y_lrr_pred)\n",
        "r2 = r2_score(y_test, y_lrr_pred)\n",
        "\n",
        "print(\"Linear Regression MSE:\", mse)\n",
        "print(\"Linear Regression R2:\", r2)"
      ],
      "metadata": {
        "id": "lnKezUOtow47",
        "colab": {
          "base_uri": "https://localhost:8080/"
        },
        "outputId": "6f8c095d-c776-4fe5-a1fe-fe39dfb54682"
      },
      "execution_count": 13,
      "outputs": [
        {
          "output_type": "stream",
          "name": "stdout",
          "text": [
            "   Unnamed: 0   company     department  employee_id  age  age_when_joined  \\\n",
            "0           0   Glasses        BigData           16   41               38   \n",
            "1           1   Glasses             AI           56   44               42   \n",
            "2           2  Cheerper        Support           59   41               40   \n",
            "3           3   Glasses         Design           40   39               32   \n",
            "4           4   Glasses  Search Engine           47   30               22   \n",
            "\n",
            "   years_in_the_company        salary  annual_bonus  prior_years_experience  \\\n",
            "0                     3   68074.97135   17664.10410                       3   \n",
            "1                     2   49092.14746   21551.14108                       2   \n",
            "2                     1   40000.00000   23698.87885                       2   \n",
            "3                     7  108192.46550   21570.92966                       1   \n",
            "4                     9   71291.19113   21565.50572                       2   \n",
            "\n",
            "   full_time  part_time  contractor  \n",
            "0   0.000000   0.000000    1.000000  \n",
            "1   0.000000   0.184991    1.000000  \n",
            "2   0.000000   0.919887    0.662706  \n",
            "3   0.930396   0.546206    0.000000  \n",
            "4   0.525432   0.938412    0.000000  \n",
            "   Unnamed: 0   company     department  employee_id  age  age_when_joined  \\\n",
            "0           0   Glasses        BigData           16   41               38   \n",
            "1           1   Glasses             AI           56   44               42   \n",
            "2           2  Cheerper        Support           59   41               40   \n",
            "3           3   Glasses         Design           40   39               32   \n",
            "4           4   Glasses  Search Engine           47   30               22   \n",
            "\n",
            "   years_in_the_company  salary  annual_bonus  prior_years_experience  \\\n",
            "0                     3    1074   17664.10410                       3   \n",
            "1                     2     250   21551.14108                       2   \n",
            "2                     1       0   23698.87885                       2   \n",
            "3                     7    3515   21570.92966                       1   \n",
            "4                     9    1259   21565.50572                       2   \n",
            "\n",
            "   full_time  part_time  contractor  \n",
            "0   0.000000   0.000000    1.000000  \n",
            "1   0.000000   0.184991    1.000000  \n",
            "2   0.000000   0.919887    0.662706  \n",
            "3   0.930396   0.546206    0.000000  \n",
            "4   0.525432   0.938412    0.000000  \n",
            "Linear Regression MSE: 18534601.94029943\n",
            "Linear Regression R2: 0.038488073728541794\n"
          ]
        }
      ]
    }
  ]
}